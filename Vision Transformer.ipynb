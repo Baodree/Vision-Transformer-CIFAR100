{
  "cells": [
    {
      "cell_type": "code",
      "execution_count": 14,
      "id": "11d6792f",
      "metadata": {
        "colab": {
          "base_uri": "https://localhost:8080/"
        },
        "id": "11d6792f",
        "outputId": "eda9b63b-f5a1-48af-b50d-b0949a560d89"
      },
      "outputs": [
        {
          "output_type": "stream",
          "name": "stdout",
          "text": [
            "Looking in indexes: https://pypi.org/simple, https://us-python.pkg.dev/colab-wheels/public/simple/\n",
            "Requirement already satisfied: tensorflow-addons==0.16.1 in /usr/local/lib/python3.8/dist-packages (0.16.1)\n",
            "Requirement already satisfied: typeguard>=2.7 in /usr/local/lib/python3.8/dist-packages (from tensorflow-addons==0.16.1) (2.7.1)\n"
          ]
        }
      ],
      "source": [
        "import numpy as np\n",
        "import tensorflow as tf\n",
        "from tensorflow import keras\n",
        "from tensorflow.keras import layers\n",
        "!pip install tensorflow-addons==0.16.1\n",
        "import tensorflow_addons as tfa"
      ]
    },
    {
      "cell_type": "code",
      "execution_count": 15,
      "id": "fedd9312",
      "metadata": {
        "colab": {
          "base_uri": "https://localhost:8080/"
        },
        "id": "fedd9312",
        "outputId": "b9090c14-848d-463b-bc2a-3c746c811a0b"
      },
      "outputs": [
        {
          "output_type": "stream",
          "name": "stdout",
          "text": [
            "x_train shape: (50000, 32, 32, 3) - y_train shape: (50000, 1)\n",
            "x_test shape: (10000, 32, 32, 3) - y_test shape: (10000, 1)\n"
          ]
        }
      ],
      "source": [
        "num_classes = 100\n",
        "input_shape = (32, 32, 3)\n",
        "\n",
        "(x_train, y_train), (x_test, y_test) = keras.datasets.cifar100.load_data()\n",
        "\n",
        "print(f\"x_train shape: {x_train.shape} - y_train shape: {y_train.shape}\")\n",
        "print(f\"x_test shape: {x_test.shape} - y_test shape: {y_test.shape}\")"
      ]
    },
    {
      "cell_type": "code",
      "execution_count": 16,
      "id": "8e7e976a",
      "metadata": {
        "id": "8e7e976a"
      },
      "outputs": [],
      "source": [
        "learning_rate = 0.001\n",
        "weight_decay = 0.0001\n",
        "batch_size = 256\n",
        "num_epochs = 20\n",
        "image_size = 72  # We'll resize input images to this size\n",
        "patch_size = 6  # Size of the patches to be extract from the input images\n",
        "num_patches = (image_size // patch_size) ** 2\n",
        "projection_dim = 64\n",
        "num_heads = 4\n",
        "transformer_units = [\n",
        "    projection_dim * 2,\n",
        "    projection_dim,\n",
        "]  # Size of the transformer layers\n",
        "transformer_layers = 8\n",
        "mlp_head_units = [2048, 1024]  # Size of the dense layers of the final classifier"
      ]
    },
    {
      "cell_type": "code",
      "execution_count": 17,
      "id": "99068b3a",
      "metadata": {
        "id": "99068b3a"
      },
      "outputs": [],
      "source": [
        "data_augmentation = keras.Sequential(\n",
        "    [\n",
        "        layers.Normalization(),\n",
        "        layers.Resizing(image_size, image_size),\n",
        "        layers.RandomFlip(\"horizontal\"),\n",
        "        layers.RandomRotation(factor=0.02),\n",
        "        layers.RandomZoom(\n",
        "            height_factor=0.2, width_factor=0.2\n",
        "        ),\n",
        "    ],\n",
        "    name=\"data_augmentation\",\n",
        ")\n",
        "# Compute the mean and the variance of the training data for normalization.\n",
        "data_augmentation.layers[0].adapt(x_train)"
      ]
    },
    {
      "cell_type": "code",
      "execution_count": 18,
      "id": "5b68a020",
      "metadata": {
        "id": "5b68a020"
      },
      "outputs": [],
      "source": [
        "def mlp(x, hidden_units, dropout_rate):\n",
        "    for units in hidden_units:\n",
        "        x = layers.Dense(units, activation=tf.nn.gelu)(x)\n",
        "        x = layers.Dropout(dropout_rate)(x)\n",
        "    return x"
      ]
    },
    {
      "cell_type": "code",
      "execution_count": 19,
      "id": "daf2a20a",
      "metadata": {
        "id": "daf2a20a"
      },
      "outputs": [],
      "source": [
        "class Patches(layers.Layer):\n",
        "    def __init__(self, patch_size):\n",
        "        super().__init__()\n",
        "        self.patch_size = patch_size\n",
        "\n",
        "    def call(self, images):\n",
        "        batch_size = tf.shape(images)[0]\n",
        "        patches = tf.image.extract_patches(\n",
        "            images=images,\n",
        "            sizes=[1, self.patch_size, self.patch_size, 1],\n",
        "            strides=[1, self.patch_size, self.patch_size, 1],\n",
        "            rates=[1, 1, 1, 1],\n",
        "            padding=\"VALID\",\n",
        "        )\n",
        "        patch_dims = patches.shape[-1]\n",
        "        patches = tf.reshape(patches, [batch_size, -1, patch_dims])\n",
        "        return patches"
      ]
    },
    {
      "cell_type": "code",
      "execution_count": 20,
      "id": "ca0afa1e",
      "metadata": {
        "colab": {
          "base_uri": "https://localhost:8080/",
          "height": 548
        },
        "id": "ca0afa1e",
        "outputId": "8dd22861-99d3-430e-af45-4ad6e10c3ac4"
      },
      "outputs": [
        {
          "output_type": "stream",
          "name": "stdout",
          "text": [
            "Image size: 72 X 72\n",
            "Patch size: 6 X 6\n",
            "Patches per image: 144\n",
            "Elements per patch: 108\n"
          ]
        },
        {
          "output_type": "display_data",
          "data": {
            "text/plain": [
              "<Figure size 288x288 with 1 Axes>"
            ],
            "image/png": "[encoded data removed]"
          },
          "metadata": {
            "needs_background": "light"
          }
        },
        {
          "output_type": "display_data",
          "data": {
            "text/plain": [
              "<Figure size 288x288 with 144 Axes>"
            ],
            "image/png": "[encoded data removed]"
          },
          "metadata": {
            "needs_background": "light"
          }
        }
      ],
      "source": [
        "import matplotlib.pyplot as plt\n",
        "\n",
        "plt.figure(figsize=(4, 4))\n",
        "image = x_train[np.random.choice(range(x_train.shape[0]))]\n",
        "plt.imshow(image.astype(\"uint8\"))\n",
        "plt.axis(\"off\")\n",
        "\n",
        "resized_image = tf.image.resize(\n",
        "    tf.convert_to_tensor([image]), size=(image_size, image_size)\n",
        ")\n",
        "patches = Patches(patch_size)(resized_image)\n",
        "print(f\"Image size: {image_size} X {image_size}\")\n",
        "print(f\"Patch size: {patch_size} X {patch_size}\")\n",
        "print(f\"Patches per image: {patches.shape[1]}\")\n",
        "print(f\"Elements per patch: {patches.shape[-1]}\")\n",
        "\n",
        "n = int(np.sqrt(patches.shape[1]))\n",
        "plt.figure(figsize=(4, 4))\n",
        "for i, patch in enumerate(patches[0]):\n",
        "    ax = plt.subplot(n, n, i + 1)\n",
        "    patch_img = tf.reshape(patch, (patch_size, patch_size, 3))\n",
        "    plt.imshow(patch_img.numpy().astype(\"uint8\"))\n",
        "    plt.axis(\"off\")"
      ]
    },
    {
      "cell_type": "code",
      "execution_count": 21,
      "id": "afff36f8",
      "metadata": {
        "id": "afff36f8"
      },
      "outputs": [],
      "source": [
        "class PatchEncoder(layers.Layer):\n",
        "    def __init__(self, num_patches, projection_dim):\n",
        "        super().__init__()\n",
        "        self.num_patches = num_patches\n",
        "        self.projection = layers.Dense(units=projection_dim)\n",
        "        self.position_embedding = layers.Embedding(\n",
        "            input_dim=num_patches, output_dim=projection_dim\n",
        "        )\n",
        "\n",
        "    def call(self, patch):\n",
        "        positions = tf.range(start=0, limit=self.num_patches, delta=1)\n",
        "        encoded = self.projection(patch) + self.position_embedding(positions)\n",
        "        return encoded\n"
      ]
    },
    {
      "cell_type": "code",
      "execution_count": 22,
      "id": "d95d2e98",
      "metadata": {
        "id": "d95d2e98"
      },
      "outputs": [],
      "source": [
        "def create_vit_classifier():\n",
        "    inputs = layers.Input(shape=input_shape)\n",
        "    # Augment data.\n",
        "    augmented = data_augmentation(inputs)\n",
        "    # Create patches.\n",
        "    patches = Patches(patch_size)(augmented)\n",
        "    # Encode patches.\n",
        "    encoded_patches = PatchEncoder(num_patches, projection_dim)(patches)\n",
        "\n",
        "    # Create multiple layers of the Transformer block.\n",
        "    for _ in range(transformer_layers):\n",
        "        # Layer normalization 1.\n",
        "        x1 = layers.LayerNormalization(epsilon=1e-6)(encoded_patches)\n",
        "        # Create a multi-head attention layer.\n",
        "        attention_output = layers.MultiHeadAttention(\n",
        "            num_heads=num_heads, key_dim=projection_dim, dropout=0.1\n",
        "        )(x1, x1)\n",
        "        # Skip connection 1.\n",
        "        x2 = layers.Add()([attention_output, encoded_patches])\n",
        "        # Layer normalization 2.\n",
        "        x3 = layers.LayerNormalization(epsilon=1e-6)(x2)\n",
        "        # MLP.\n",
        "        x3 = mlp(x3, hidden_units=transformer_units, dropout_rate=0.1)\n",
        "        # Skip connection 2.\n",
        "        encoded_patches = layers.Add()([x3, x2])\n",
        "\n",
        "    # Create a [batch_size, projection_dim] tensor.\n",
        "    representation = layers.LayerNormalization(epsilon=1e-6)(encoded_patches)\n",
        "    representation = layers.Flatten()(representation)\n",
        "    representation = layers.Dropout(0.5)(representation)\n",
        "    # Add MLP.\n",
        "    features = mlp(representation, hidden_units=mlp_head_units, dropout_rate=0.5)\n",
        "    # Classify outputs.\n",
        "    logits = layers.Dense(num_classes)(features)\n",
        "    # Create the Keras model.\n",
        "    model = keras.Model(inputs=inputs, outputs=logits)\n",
        "    return model"
      ]
    },
    {
      "cell_type": "code",
      "execution_count": 23,
      "id": "7602590f",
      "metadata": {
        "colab": {
          "base_uri": "https://localhost:8080/"
        },
        "id": "7602590f",
        "outputId": "39988b90-babd-4caa-8f45-3d515ea69c47"
      },
      "outputs": [
        {
          "output_type": "stream",
          "name": "stdout",
          "text": [
            "Epoch 1/20\n",
            "176/176 [==============================] - 117s 514ms/step - loss: 4.4651 - accuracy: 0.0466 - val_loss: 3.9187 - val_accuracy: 0.1104\n",
            "Epoch 2/20\n",
            "176/176 [==============================] - 90s 510ms/step - loss: 3.9207 - accuracy: 0.0974 - val_loss: 3.5347 - val_accuracy: 0.1622\n",
            "Epoch 3/20\n",
            "176/176 [==============================] - 90s 513ms/step - loss: 3.6558 - accuracy: 0.1354 - val_loss: 3.3690 - val_accuracy: 0.1934\n",
            "Epoch 4/20\n",
            "176/176 [==============================] - 90s 509ms/step - loss: 3.4846 - accuracy: 0.1662 - val_loss: 3.2132 - val_accuracy: 0.2256\n",
            "Epoch 5/20\n",
            "176/176 [==============================] - 89s 507ms/step - loss: 3.3320 - accuracy: 0.1941 - val_loss: 3.0434 - val_accuracy: 0.2560\n",
            "Epoch 6/20\n",
            "176/176 [==============================] - 90s 510ms/step - loss: 3.1952 - accuracy: 0.2190 - val_loss: 3.0065 - val_accuracy: 0.2626\n",
            "Epoch 7/20\n",
            "176/176 [==============================] - 89s 507ms/step - loss: 3.0681 - accuracy: 0.2417 - val_loss: 2.8039 - val_accuracy: 0.2996\n",
            "Epoch 8/20\n",
            "176/176 [==============================] - 89s 508ms/step - loss: 2.9469 - accuracy: 0.2674 - val_loss: 2.6848 - val_accuracy: 0.3218\n",
            "Epoch 9/20\n",
            "176/176 [==============================] - 90s 510ms/step - loss: 2.8467 - accuracy: 0.2880 - val_loss: 2.5921 - val_accuracy: 0.3436\n",
            "Epoch 10/20\n",
            "176/176 [==============================] - 89s 507ms/step - loss: 2.7491 - accuracy: 0.3046 - val_loss: 2.5261 - val_accuracy: 0.3618\n",
            "Epoch 11/20\n",
            "176/176 [==============================] - 89s 507ms/step - loss: 2.6568 - accuracy: 0.3221 - val_loss: 2.4780 - val_accuracy: 0.3674\n",
            "Epoch 12/20\n",
            "176/176 [==============================] - 90s 512ms/step - loss: 2.5717 - accuracy: 0.3398 - val_loss: 2.3634 - val_accuracy: 0.3862\n",
            "Epoch 13/20\n",
            "176/176 [==============================] - 89s 506ms/step - loss: 2.4866 - accuracy: 0.3608 - val_loss: 2.3331 - val_accuracy: 0.4000\n",
            "Epoch 14/20\n",
            "176/176 [==============================] - 89s 507ms/step - loss: 2.4199 - accuracy: 0.3733 - val_loss: 2.2996 - val_accuracy: 0.4034\n",
            "Epoch 15/20\n",
            "176/176 [==============================] - 90s 511ms/step - loss: 2.3449 - accuracy: 0.3879 - val_loss: 2.2937 - val_accuracy: 0.4082\n",
            "Epoch 16/20\n",
            "176/176 [==============================] - 89s 507ms/step - loss: 2.2906 - accuracy: 0.3992 - val_loss: 2.1923 - val_accuracy: 0.4296\n",
            "Epoch 17/20\n",
            "176/176 [==============================] - 89s 503ms/step - loss: 2.2243 - accuracy: 0.4140 - val_loss: 2.2043 - val_accuracy: 0.4240\n",
            "Epoch 18/20\n",
            "176/176 [==============================] - 90s 509ms/step - loss: 2.1680 - accuracy: 0.4268 - val_loss: 2.1389 - val_accuracy: 0.4364\n",
            "Epoch 19/20\n",
            "176/176 [==============================] - 89s 507ms/step - loss: 2.1047 - accuracy: 0.4406 - val_loss: 2.1223 - val_accuracy: 0.4402\n",
            "Epoch 20/20\n",
            "176/176 [==============================] - 89s 507ms/step - loss: 2.0475 - accuracy: 0.4494 - val_loss: 2.0760 - val_accuracy: 0.4570\n",
            "313/313 [==============================] - 7s 23ms/step - loss: 2.0394 - accuracy: 0.4619\n",
            "Test accuracy: 46.19%\n"
          ]
        }
      ],
      "source": [
        "def run_experiment(model):\n",
        "    optimizer = tfa.optimizers.AdamW(\n",
        "        learning_rate=learning_rate, weight_decay=weight_decay\n",
        "    )\n",
        "\n",
        "    model.compile(\n",
        "        optimizer=optimizer,\n",
        "        loss=keras.losses.SparseCategoricalCrossentropy(from_logits=True),\n",
        "        metrics=[\n",
        "            keras.metrics.SparseCategoricalAccuracy(name=\"accuracy\")\n",
        "        ],\n",
        "    )\n",
        "\n",
        "    checkpoint_filepath = \"/tmp/checkpoint\"\n",
        "    checkpoint_callback = keras.callbacks.ModelCheckpoint(\n",
        "        checkpoint_filepath,\n",
        "        monitor=\"val_accuracy\",\n",
        "        save_best_only=True,\n",
        "        save_weights_only=True,\n",
        "    )\n",
        "\n",
        "    history = model.fit(\n",
        "        x=x_train,\n",
        "        y=y_train,\n",
        "        batch_size=batch_size,\n",
        "        epochs=num_epochs,\n",
        "        validation_split=0.1,\n",
        "        callbacks=[checkpoint_callback],\n",
        "    )\n",
        "\n",
        "    model.load_weights(checkpoint_filepath)\n",
        "    _3, accuracy = model.evaluate(x_test, y_test)\n",
        "    print(f\"Test accuracy: {round(accuracy * 100, 2)}%\")\n",
        "\n",
        "    return history\n",
        "\n",
        "\n",
        "vit_classifier = create_vit_classifier()\n",
        "history = run_experiment(vit_classifier)"
      ]
    }
  ],
  "metadata": {
    "kernelspec": {
      "display_name": "Python 3 (ipykernel)",
      "language": "python",
      "name": "python3"
    },
    "language_info": {
      "codemirror_mode": {
        "name": "ipython",
        "version": 3
      },
      "file_extension": ".py",
      "mimetype": "text/x-python",
      "name": "python",
      "nbconvert_exporter": "python",
      "pygments_lexer": "ipython3",
      "version": "3.10.8"
    },
    "colab": {
      "provenance": []
    },
    "accelerator": "GPU",
    "gpuClass": "standard"
  },
  "nbformat": 4,
  "nbformat_minor": 5
}
